{
  "cells": [
    {
      "cell_type": "markdown",
      "metadata": {
        "colab_type": "text",
        "id": "view-in-github"
      },
      "source": [
        "<a href=\"https://colab.research.google.com/github/open-neuromorphic/fpga-snntorch/blob/main/software/ISFPGA_SNN_cheatsheet.ipynb\" target=\"_parent\"><img src=\"https://colab.research.google.com/assets/colab-badge.svg\" alt=\"Open In Colab\"/></a>"
      ]
    },
    {
      "cell_type": "markdown",
      "metadata": {
        "id": "8w6lhn7H8fW5"
      },
      "source": [
        "\n",
        "\n",
        "\n",
        "\n",
        "[<img src='https://github.com/jeshraghian/snntorch/blob/master/docs/_static/img/snntorch_alpha_w.png?raw=true' width=\"200\">]"
      ]
    },
    {
      "cell_type": "code",
      "execution_count": 85,
      "metadata": {
        "id": "1BlTqunB73-t"
      },
      "outputs": [],
      "source": [
        "!pip install snntorch --quiet # shift + enter"
      ]
    },
    {
      "cell_type": "markdown",
      "metadata": {
        "id": "xLlnINAI9mgJ"
      },
      "source": [
        "*What will I learn?*\n",
        "\n",
        "1. Train an SNN classifier using snnTorch\n",
        "2. Hardware Friendly Training\n",
        "  - Weight Quantization with Brevitas\n",
        "  - Stateful Quantization\n",
        "3. Handling neuromorphic data with Tonic"
      ]
    },
    {
      "cell_type": "markdown",
      "metadata": {
        "id": "-CS50cwuCW6n"
      },
      "source": [
        "# 1. Train an SNN Classifier using snnTorch\n",
        "## 1.1 Imports\n"
      ]
    },
    {
      "cell_type": "code",
      "execution_count": 86,
      "metadata": {
        "id": "H_TzogsCCcSe"
      },
      "outputs": [],
      "source": [
        "# snntorch imports\n",
        "import snntorch as snn\n",
        "from snntorch import functional as SF\n",
        "\n",
        "# pytorch imports\n",
        "import torch\n",
        "import torch.nn as nn\n",
        "from torch.utils.data import DataLoader\n",
        "from torchvision import datasets, transforms\n",
        "\n",
        "# data manipulation\n",
        "import numpy as np\n",
        "import itertools\n",
        "\n",
        "# plotting\n",
        "import matplotlib.pyplot as plt\n",
        "from IPython.display import HTML"
      ]
    },
    {
      "cell_type": "markdown",
      "metadata": {
        "id": "nftOdpyAGv7D"
      },
      "source": [
        "## 1.2 Boilerplate: DataLoading the MNIST Dataset"
      ]
    },
    {
      "cell_type": "code",
      "execution_count": 87,
      "metadata": {
        "id": "SsM2Z5NXGu5z"
      },
      "outputs": [],
      "source": [
        "# dataloader arguments\n",
        "batch_size = 128\n",
        "data_path='/home/markblz/Documents/aventura-politecnica/tcc/repositories/fpga-snntorch/datamnist'\n",
        "\n",
        "dtype = torch.float\n",
        "device = torch.device(\"cuda\") if torch.cuda.is_available() else torch.device(\"cpu\")\n",
        "## if you're on M1 or M2 GPU:\n",
        "# device = torch.device(\"mps\")"
      ]
    },
    {
      "cell_type": "code",
      "execution_count": 88,
      "metadata": {
        "id": "XqbYptgDHUPg"
      },
      "outputs": [],
      "source": [
        "# Define a transform\n",
        "transform = transforms.Compose([\n",
        "            transforms.Resize((28, 28)),\n",
        "            transforms.Grayscale(),\n",
        "            transforms.ToTensor(),\n",
        "            transforms.Normalize((0,), (1,))])\n",
        "\n",
        "mnist_train = datasets.MNIST(data_path, train=True, download=True, transform=transform)\n",
        "mnist_test = datasets.MNIST(data_path, train=False, download=True, transform=transform)"
      ]
    },
    {
      "cell_type": "code",
      "execution_count": 89,
      "metadata": {
        "id": "jSlS3gWZHXI0"
      },
      "outputs": [],
      "source": [
        "# Create DataLoaders\n",
        "train_loader = DataLoader(mnist_train, batch_size=batch_size, shuffle=True, drop_last=True)\n",
        "test_loader = DataLoader(mnist_test, batch_size=batch_size, shuffle=True, drop_last=True)"
      ]
    },
    {
      "cell_type": "markdown",
      "metadata": {
        "id": "SJVhfNukHbsp"
      },
      "source": [
        "## 1.3 Construct SNN Model"
      ]
    },
    {
      "cell_type": "code",
      "execution_count": 90,
      "metadata": {
        "id": "uu324fr_HhxV"
      },
      "outputs": [],
      "source": [
        "# Network Architecture\n",
        "num_inputs = 28*28\n",
        "num_hidden = 100\n",
        "num_outputs = 10\n",
        "\n",
        "# Temporal Dynamics\n",
        "num_steps = 25\n",
        "beta = 0.95"
      ]
    },
    {
      "cell_type": "code",
      "execution_count": 91,
      "metadata": {
        "id": "CkM1Z1EjHeW8"
      },
      "outputs": [],
      "source": [
        "from snntorch import surrogate\n",
        "\n",
        "# Define Network\n",
        "class Net(nn.Module):\n",
        "    def __init__(self):\n",
        "        super().__init__()\n",
        "\n",
        "        # Initialize layers\n",
        "        self.fc1 = nn.Linear(num_inputs, num_hidden)\n",
        "        self.lif1 = snn.Leaky(beta=beta)\n",
        "        self.fc2 = nn.Linear(num_hidden, num_outputs)\n",
        "        self.lif2 = snn.Leaky(beta=beta)\n",
        "\n",
        "    def forward(self, x):\n",
        "\n",
        "        # Initialize hidden states at t=0\n",
        "        mem1 = self.lif1.init_leaky()\n",
        "        mem2 = self.lif2.init_leaky()\n",
        "\n",
        "        # Record the final layer\n",
        "        spk2_rec = []\n",
        "        mem2_rec = []\n",
        "\n",
        "        # time-loop\n",
        "        for step in range(num_steps):\n",
        "          cur1 = self.fc1(x.flatten(1)) # batch: 128 x 784\n",
        "          spk1, mem1 = self.lif1(cur1, mem1)\n",
        "          cur2 = self.fc2(spk1)\n",
        "          spk2, mem2 = self.lif2(cur2, mem2)\n",
        "\n",
        "          # store in list\n",
        "          spk2_rec.append(spk2)\n",
        "          mem2_rec.append(mem2)\n",
        "\n",
        "        return torch.stack(spk2_rec, dim=0), torch.stack(mem2_rec, dim=0) # time-steps x batch x num_out\n",
        "\n",
        "# Load the network onto CUDA if available\n",
        "net = Net().to(device)"
      ]
    },
    {
      "cell_type": "markdown",
      "metadata": {
        "id": "p8qBw03rHpn3"
      },
      "source": [
        "## 1.4 Training the SNN"
      ]
    },
    {
      "cell_type": "code",
      "execution_count": 92,
      "metadata": {
        "id": "1telBMU-HrIg"
      },
      "outputs": [
        {
          "name": "stdout",
          "output_type": "stream",
          "text": [
            "Iteration: 0 \t Train Loss: 2.879148483276367\n",
            "Iteration: 10 \t Train Loss: 1.7492191791534424\n",
            "Iteration: 20 \t Train Loss: 1.002739667892456\n",
            "Iteration: 30 \t Train Loss: 0.7407540082931519\n",
            "Iteration: 40 \t Train Loss: 0.546580970287323\n",
            "Iteration: 50 \t Train Loss: 0.4311913549900055\n",
            "Iteration: 60 \t Train Loss: 0.42761972546577454\n",
            "Iteration: 70 \t Train Loss: 0.42054569721221924\n",
            "Iteration: 80 \t Train Loss: 0.28292006254196167\n",
            "Iteration: 90 \t Train Loss: 0.3378041684627533\n"
          ]
        }
      ],
      "source": [
        "def training_loop(model, dataloader, num_epochs=1):\n",
        "  loss = nn.CrossEntropyLoss()\n",
        "  optimizer = torch.optim.Adam(model.parameters(), lr=5e-4, betas=(0.9, 0.999))\n",
        "  counter = 0\n",
        "\n",
        "  # Outer training loop\n",
        "  for epoch in range(num_epochs):\n",
        "      train_batch = iter(dataloader)\n",
        "\n",
        "      # Minibatch training loop\n",
        "      for data, targets in train_batch:\n",
        "          data = data.to(device)\n",
        "          targets = targets.to(device)\n",
        "\n",
        "          # forward pass\n",
        "          model.train()\n",
        "          spk_rec, _ = model(data)\n",
        "\n",
        "          # initialize the loss & sum over time\n",
        "          loss_val = torch.zeros((1), dtype=dtype, device=device)\n",
        "          loss_val = loss(spk_rec.sum(0), targets) # batch x num_out\n",
        "\n",
        "          # Gradient calculation + weight update\n",
        "          optimizer.zero_grad()\n",
        "          loss_val.backward()\n",
        "          optimizer.step()\n",
        "\n",
        "          # Print train/test loss/accuracy\n",
        "          if counter % 10 == 0:\n",
        "              print(f\"Iteration: {counter} \\t Train Loss: {loss_val.item()}\")\n",
        "          counter += 1\n",
        "\n",
        "          if counter == 100:\n",
        "            break\n",
        "\n",
        "training_loop(net, train_loader)"
      ]
    },
    {
      "cell_type": "code",
      "execution_count": 93,
      "metadata": {
        "id": "nHsdkuSlIS1E"
      },
      "outputs": [],
      "source": [
        "def measure_accuracy(model, dataloader):\n",
        "  with torch.no_grad():\n",
        "    model.eval()\n",
        "    running_length = 0\n",
        "    running_accuracy = 0\n",
        "\n",
        "    for data, targets in iter(dataloader):\n",
        "      data = data.to(device)\n",
        "      targets = targets.to(device)\n",
        "\n",
        "      # forward-pass\n",
        "      spk_rec, _ = model(data)\n",
        "      spike_count = spk_rec.sum(0) # batch x num_outputs\n",
        "      _, max_spike = spike_count.max(1)\n",
        "\n",
        "      # correct classes for one batch\n",
        "      num_correct = (max_spike == targets).sum()\n",
        "\n",
        "      # total accuracy\n",
        "      running_length += len(targets)\n",
        "      running_accuracy += num_correct\n",
        "\n",
        "    accuracy = (running_accuracy / running_length)\n",
        "\n",
        "    return accuracy.item()\n"
      ]
    },
    {
      "cell_type": "code",
      "execution_count": 94,
      "metadata": {
        "id": "oJHAltRCKGyx"
      },
      "outputs": [
        {
          "name": "stdout",
          "output_type": "stream",
          "text": [
            "Test set accuracy: 0.9117588400840759\n"
          ]
        }
      ],
      "source": [
        "print(f\"Test set accuracy: {measure_accuracy(net, test_loader)}\")"
      ]
    },
    {
      "cell_type": "markdown",
      "metadata": {
        "id": "lGMrI2_ga_CA"
      },
      "source": [
        "### A Sanity Check"
      ]
    },
    {
      "cell_type": "code",
      "execution_count": 95,
      "metadata": {
        "id": "zphRrbBQbAjp"
      },
      "outputs": [],
      "source": [
        "def print_sample(model, dataloader, idx=0):\n",
        "  with torch.no_grad():\n",
        "    model.eval()\n",
        "\n",
        "    data, targets = next(iter(dataloader))\n",
        "    data = data.to(device)\n",
        "    targets = targets.to(device)\n",
        "\n",
        "    # forward-pass\n",
        "    spk_rec, _ = model(data)\n",
        "    spike_count = spk_rec.sum(0) # batch x num_outputs\n",
        "    _, max_spike = spike_count.max(1)\n",
        "\n",
        "    # Plot the sample\n",
        "    plt.imshow(data[idx].cpu().squeeze(), cmap='gray')\n",
        "    plt.title(f'Target: {targets[idx].item()}')\n",
        "    plt.show()\n",
        "\n",
        "\n",
        "    return"
      ]
    },
    {
      "cell_type": "code",
      "execution_count": 96,
      "metadata": {
        "id": "gFjUZ0MebB1A"
      },
      "outputs": [
        {
          "data": {
            "image/png": "[encoded data removed]",
            "text/plain": [
              "<Figure size 640x480 with 1 Axes>"
            ]
          },
          "metadata": {},
          "output_type": "display_data"
        }
      ],
      "source": [
        "print_sample(net, test_loader)"
      ]
    },
    {
      "cell_type": "markdown",
      "metadata": {
        "id": "Z9vrb2zUD6S-"
      },
      "source": [
        "# 2. Hardware Friendly Training\n",
        "## 2.1 Weight Quantization"
      ]
    },
    {
      "cell_type": "code",
      "execution_count": 97,
      "metadata": {
        "id": "icK4WzuL-2QA"
      },
      "outputs": [],
      "source": [
        "!pip install brevitas --quiet"
      ]
    },
    {
      "cell_type": "markdown",
      "metadata": {
        "id": "idiLnVjJGJAL"
      },
      "source": [
        "Just replace all `nn.Linear` layers with `qnn.QuantLinear(num_inputs, num_outputs, weight_bit_width, bias)`."
      ]
    },
    {
      "cell_type": "code",
      "execution_count": 98,
      "metadata": {
        "id": "PiZYTMA6D-YL"
      },
      "outputs": [],
      "source": [
        "import brevitas.nn as qnn\n",
        "\n",
        "# Define Network\n",
        "class QuantNet(nn.Module):\n",
        "    def __init__(self):\n",
        "        super().__init__()\n",
        "\n",
        "        # Initialize layers\n",
        "        self.fc1 = qnn.QuantLinear(num_inputs, num_hidden, weight_bit_width=8, bias=False)\n",
        "        self.lif1 = snn.Leaky(beta=beta)\n",
        "        self.fc2 = qnn.QuantLinear(num_hidden, num_outputs, weight_bit_width=8, bias=False)\n",
        "        self.lif2 = snn.Leaky(beta=beta)\n",
        "\n",
        "    def forward(self, x):\n",
        "\n",
        "        # Initialize hidden states at t=0\n",
        "        mem1 = self.lif1.init_leaky()\n",
        "        mem2 = self.lif2.init_leaky()\n",
        "\n",
        "        # Record the final layer\n",
        "        spk2_rec = []\n",
        "        mem2_rec = []\n",
        "\n",
        "        for step in range(num_steps):\n",
        "            cur1 = self.fc1(x.flatten(1))\n",
        "            spk1, mem1 = self.lif1(cur1, mem1)\n",
        "            cur2 = self.fc2(spk1)\n",
        "            spk2, mem2 = self.lif2(cur2, mem2)\n",
        "            spk2_rec.append(spk2)\n",
        "            mem2_rec.append(mem2)\n",
        "\n",
        "        return torch.stack(spk2_rec, dim=0), torch.stack(mem2_rec, dim=0)\n",
        "\n",
        "# Load the network onto CUDA if available\n",
        "qnet = QuantNet().to(device)"
      ]
    },
    {
      "cell_type": "code",
      "execution_count": 99,
      "metadata": {
        "id": "PocSa27MOOoK"
      },
      "outputs": [
        {
          "name": "stdout",
          "output_type": "stream",
          "text": [
            "Iteration: 0 \t Train Loss: 2.5612916946411133\n",
            "Iteration: 10 \t Train Loss: 1.7607202529907227\n",
            "Iteration: 20 \t Train Loss: 1.1101235151290894\n",
            "Iteration: 30 \t Train Loss: 0.6506174206733704\n",
            "Iteration: 40 \t Train Loss: 0.4861527681350708\n",
            "Iteration: 50 \t Train Loss: 0.3326822519302368\n",
            "Iteration: 60 \t Train Loss: 0.3528664708137512\n",
            "Iteration: 70 \t Train Loss: 0.36740225553512573\n",
            "Iteration: 80 \t Train Loss: 0.32880255579948425\n",
            "Iteration: 90 \t Train Loss: 0.29565346240997314\n",
            "Test set accuracy: 0.9123597741127014\n"
          ]
        }
      ],
      "source": [
        "training_loop(qnet, train_loader)\n",
        "print(f\"Test set accuracy: {measure_accuracy(qnet, test_loader)}\")"
      ]
    },
    {
      "cell_type": "markdown",
      "metadata": {
        "id": "JvRzLHdjD-6S"
      },
      "source": [
        "## 2.2 SQUAT: Stateful Quantization-Aware Training\n",
        "\n"
      ]
    },
    {
      "cell_type": "code",
      "execution_count": 117,
      "metadata": {},
      "outputs": [],
      "source": [
        "# Network Architecture\n",
        "num_inputs = 28*28 # 784\n",
        "num_hidden = 10\n",
        "num_outputs = 10\n",
        "\n",
        "# Temporal Dynamics\n",
        "num_steps = 25\n",
        "beta = 0.95"
      ]
    },
    {
      "cell_type": "code",
      "execution_count": 118,
      "metadata": {
        "id": "tAaafUczEAu_"
      },
      "outputs": [],
      "source": [
        "from snntorch.functional import quant\n",
        "\n",
        "# Define Network\n",
        "class SquatNet(nn.Module):\n",
        "    def __init__(self):\n",
        "        super().__init__()\n",
        "\n",
        "        q_lif = quant.state_quant(num_bits=4, uniform=True)\n",
        "\n",
        "        # Initialize layers\n",
        "        self.fc1 = qnn.QuantLinear(num_inputs, num_hidden, weight_bit_width=8, bias=False)\n",
        "        self.lif1 = snn.Leaky(beta=beta, state_quant=q_lif)\n",
        "        self.fc2 = qnn.QuantLinear(num_hidden, num_outputs, weight_bit_width=8, bias=False)\n",
        "        self.lif2 = snn.Leaky(beta=beta, state_quant=q_lif)\n",
        "        \n",
        "    def forward(self, x):\n",
        "        \n",
        "        # print(f\"x shape: {x.shape}\")\n",
        "        # Initialize hidden states at t=0\n",
        "        mem1 = self.lif1.init_leaky()\n",
        "        mem2 = self.lif2.init_leaky()\n",
        "\n",
        "        # Record the final layer\n",
        "        spk2_rec = []\n",
        "        mem2_rec = []\n",
        "\n",
        "        for step in range(num_steps):\n",
        "            cur1 = self.fc1(x.flatten(1))\n",
        "            spk1, mem1 = self.lif1(cur1, mem1)\n",
        "            cur2 = self.fc2(spk1)\n",
        "            spk2, mem2 = self.lif2(cur2, mem2)\n",
        "            spk2_rec.append(spk2)\n",
        "            mem2_rec.append(mem2)\n",
        "\n",
        "        return torch.stack(spk2_rec, dim=0), torch.stack(mem2_rec, dim=0)\n",
        "\n",
        "# Load the network onto CUDA if available\n",
        "sqnet = SquatNet().to(device)"
      ]
    },
    {
      "cell_type": "code",
      "execution_count": 119,
      "metadata": {
        "id": "0zfo0h6AQDzS"
      },
      "outputs": [
        {
          "name": "stdout",
          "output_type": "stream",
          "text": [
            "Iteration: 0 \t Train Loss: 2.37388014793396\n",
            "Iteration: 10 \t Train Loss: 2.0580670833587646\n",
            "Iteration: 20 \t Train Loss: 1.954564094543457\n",
            "Iteration: 30 \t Train Loss: 1.5086618661880493\n",
            "Iteration: 40 \t Train Loss: 1.4088497161865234\n",
            "Iteration: 50 \t Train Loss: 1.383249044418335\n",
            "Iteration: 60 \t Train Loss: 1.0730491876602173\n",
            "Iteration: 70 \t Train Loss: 1.1895477771759033\n",
            "Iteration: 80 \t Train Loss: 0.8146205544471741\n",
            "Iteration: 90 \t Train Loss: 0.9568356871604919\n",
            "Test set accuracy: 0.743990421295166\n"
          ]
        }
      ],
      "source": [
        "\n",
        "training_loop(sqnet, train_loader)\n",
        "print(f\"Test set accuracy: {measure_accuracy(sqnet, test_loader)}\")"
      ]
    },
    {
      "cell_type": "code",
      "execution_count": 103,
      "metadata": {},
      "outputs": [],
      "source": [
        "torch.save(sqnet.state_dict(), 'snn_model_weights.pth')\n"
      ]
    },
    {
      "cell_type": "code",
      "execution_count": 104,
      "metadata": {},
      "outputs": [
        {
          "name": "stderr",
          "output_type": "stream",
          "text": [
            "/tmp/ipykernel_153264/3307253767.py:1: FutureWarning: You are using `torch.load` with `weights_only=False` (the current default value), which uses the default pickle module implicitly. It is possible to construct malicious pickle data which will execute arbitrary code during unpickling (See https://github.com/pytorch/pytorch/blob/main/SECURITY.md#untrusted-models for more details). In a future release, the default value for `weights_only` will be flipped to `True`. This limits the functions that could be executed during unpickling. Arbitrary objects will no longer be allowed to be loaded via this mode unless they are explicitly allowlisted by the user via `torch.serialization.add_safe_globals`. We recommend you start setting `weights_only=True` for any use case where you don't have full control of the loaded file. Please open an issue on GitHub for any issues related to this experimental feature.\n",
            "  state_dict = torch.load('snn_model_weights.pth', map_location=device)\n"
          ]
        }
      ],
      "source": [
        "state_dict = torch.load('snn_model_weights.pth', map_location=device)\n"
      ]
    },
    {
      "cell_type": "code",
      "execution_count": 105,
      "metadata": {},
      "outputs": [
        {
          "name": "stdout",
          "output_type": "stream",
          "text": [
            "(100, 784)\n"
          ]
        }
      ],
      "source": [
        "fc1_weight = state_dict['fc1.weight'].cpu().numpy()\n",
        "fc2_weight = state_dict['fc2.weight'].cpu().numpy()\n",
        "\n",
        "print(fc1_weight.shape)"
      ]
    },
    {
      "cell_type": "code",
      "execution_count": 106,
      "metadata": {},
      "outputs": [],
      "source": [
        "import numpy as np\n",
        "\n",
        "# Quantize the weights\n",
        "def quantize_fixed_point(weights, integer_bits, fractional_bits):\n",
        "    total_bits = integer_bits + fractional_bits\n",
        "    scale_factor = 2 ** fractional_bits\n",
        "    max_int = 2 ** (total_bits - 1) - 1\n",
        "    min_int = -2 ** (total_bits - 1)\n",
        "    \n",
        "    # Escalar os pesos\n",
        "    weights_scaled = weights * scale_factor\n",
        "    \n",
        "    # Arredondar para o inteiro mais próximo\n",
        "    weights_quantized = np.round(weights_scaled)\n",
        "    \n",
        "    # Clampar os valores para o intervalo permitido\n",
        "    weights_clamped = np.clip(weights_quantized, min_int, max_int)\n",
        "    \n",
        "    # Converter para tipo inteiro adequado\n",
        "    weights_fixed_point = weights_clamped.astype(np.int8)\n",
        "    \n",
        "    return weights_fixed_point\n"
      ]
    },
    {
      "cell_type": "code",
      "execution_count": 69,
      "metadata": {},
      "outputs": [],
      "source": [
        "# Quantize the weights\n",
        "integer_bits = 4\n",
        "fractional_bits = 4 \n",
        "\n",
        "fc1_weight_q = quantize_fixed_point(fc1_weight, integer_bits, fractional_bits)\n",
        "fc2_weight_q = quantize_fixed_point(fc2_weight, integer_bits, fractional_bits)\n",
        "\n",
        "np.savetxt('fc1_weight_q.txt', fc1_weight_q, fmt='%d', delimiter=',')\n",
        "np.savetxt('fc2_weight_q.txt', fc2_weight_q, fmt='%d', delimiter=',')\n",
        "\n"
      ]
    },
    {
      "cell_type": "code",
      "execution_count": 70,
      "metadata": {},
      "outputs": [
        {
          "name": "stdout",
          "output_type": "stream",
          "text": [
            "(100, 784)\n",
            "(10, 100)\n"
          ]
        }
      ],
      "source": [
        "# Print the shapes\n",
        "fc1_shape = fc1_weight_q.shape  # (num_hidden, num_inputs)\n",
        "fc2_shape = fc2_weight_q.shape  # (num_outputs, num_hidden)\n",
        "\n",
        "print(fc1_shape)\n",
        "print(fc2_shape)"
      ]
    },
    {
      "cell_type": "code",
      "execution_count": 71,
      "metadata": {},
      "outputs": [],
      "source": [
        "# Abrir um arquivo para escrever o código do HLS\n",
        "with open('fc1_weight_array.txt', 'w') as f:\n",
        "    f.write('const int fc1_weight[NUM_HIDDEN][NUM_INPUTS] = {\\n')\n",
        "    for row in fc1_weight_q:\n",
        "        # Converter cada linha em uma string com valores separados por vírgula\n",
        "        row_str = ', '.join(map(str, row.astype(int)))\n",
        "        # Escrever a linha com chaves e vírgula\n",
        "        f.write('    { ' + row_str + ' },\\n')\n",
        "    f.write('};\\n')\n",
        "\n",
        "    # Abrir um arquivo para escrever o código\n",
        "with open('fc2_weight_array.txt', 'w') as f:\n",
        "    f.write('const int fc2_weight[NUM_OUTPUTS][NUM_HIDDEN] = {\\n')\n",
        "    for row in fc2_weight_q:\n",
        "        f.write('    { ' + ', '.join(map(str, row.astype(int))) + ' },\\n')\n",
        "    f.write('};\\n')"
      ]
    },
    {
      "cell_type": "code",
      "execution_count": 72,
      "metadata": {},
      "outputs": [],
      "source": [
        "# Escrever o código VHDL para os pesos\n",
        "with open('fc1_weight_vhdl.txt', 'w') as f:\n",
        "    f.write(\"constant WEIGHTS : weight_matrix := (\\n\")\n",
        "    for i, row in enumerate(fc1_weight_q):\n",
        "        row_str = ', '.join(str(w) for w in row)\n",
        "        if i < len(fc1_weight_q) - 1:\n",
        "            f.write(f\"    ( {row_str} ),\\n\")\n",
        "        else:\n",
        "            f.write(f\"    ( {row_str} )\\n\")\n",
        "    f.write(\");\\n\")\n",
        "\n",
        "with open('fc2_weight_vhdl.txt', 'w') as f:\n",
        "    f.write(\"constant WEIGHTS : weight_matrix := (\\n\")\n",
        "    for i, row in enumerate(fc2_weight_q):\n",
        "        row_str = ', '.join(str(w) for w in row)\n",
        "        if i < len(fc2_weight_q) - 1:\n",
        "            f.write(f\"    ( {row_str} ),\\n\")\n",
        "        else:\n",
        "            f.write(f\"    ( {row_str} )\\n\")\n",
        "    f.write(\");\\n\")\n"
      ]
    },
    {
      "cell_type": "code",
      "execution_count": 73,
      "metadata": {},
      "outputs": [],
      "source": [
        "# Escrever o valor do fator de escala\n",
        "scale_factor = 2 ** fractional_bits\n",
        "with open('scales.txt', 'w') as f:\n",
        "    f.write(f'scale_factor: {scale_factor}\\n')"
      ]
    },
    {
      "cell_type": "code",
      "execution_count": 74,
      "metadata": {},
      "outputs": [],
      "source": [
        "# Salvar o valor de beta\n",
        "beta = 0.95\n",
        "beta_q = int(beta * scale_factor)\n",
        "with open('beta_q.txt', 'w') as f:\n",
        "    f.write(f'{beta_q}')\n"
      ]
    },
    {
      "cell_type": "code",
      "execution_count": 75,
      "metadata": {},
      "outputs": [
        {
          "data": {
            "image/png": "[encoded data removed]",
            "text/plain": [
              "<Figure size 640x480 with 1 Axes>"
            ]
          },
          "metadata": {},
          "output_type": "display_data"
        }
      ],
      "source": [
        "# Plot the histogram of the quantized weights\n",
        "import matplotlib.pyplot as plt\n",
        "\n",
        "plt.hist(fc1_weight_q.flatten(), bins=20)\n",
        "plt.title('Histogram of Quantized fc1 Weights')\n",
        "plt.show()\n"
      ]
    },
    {
      "cell_type": "code",
      "execution_count": 76,
      "metadata": {},
      "outputs": [
        {
          "name": "stdout",
          "output_type": "stream",
          "text": [
            "Acurácia com pesos quantizados: 0.8269230723381042\n"
          ]
        }
      ],
      "source": [
        "# Substituir os pesos do modelo pelos quantizados\n",
        "sqnet.fc1.weight.data = torch.tensor(fc1_weight_q / scale_factor, dtype=torch.float32).to(device)\n",
        "sqnet.fc2.weight.data = torch.tensor(fc2_weight_q / scale_factor, dtype=torch.float32).to(device)\n",
        "\n",
        "# Testar a acurácia\n",
        "print(f\"Acurácia com pesos quantizados: {measure_accuracy(sqnet, test_loader)}\")\n"
      ]
    },
    {
      "cell_type": "code",
      "execution_count": null,
      "metadata": {},
      "outputs": [],
      "source": []
    },
    {
      "cell_type": "markdown",
      "metadata": {
        "id": "EZAFVgHW4M2g"
      },
      "source": [
        "# 3. Handling Neuromorphic Data with Tonic"
      ]
    },
    {
      "cell_type": "code",
      "execution_count": 77,
      "metadata": {
        "id": "g-sCKamvcI73"
      },
      "outputs": [],
      "source": [
        "!pip install tonic --quiet"
      ]
    },
    {
      "cell_type": "markdown",
      "metadata": {
        "id": "7ovHbF2DcJtv"
      },
      "source": [
        "## 3.1 PokerDVS Dataset\n",
        "\n",
        "The dataset used in this tutorial is POKERDVS by T. Serrano-Gotarredona and B. Linares-Barranco:\n",
        "\n",
        "```\n",
        "Serrano-Gotarredona, Teresa, and Bernabé Linares-Barranco. \"Poker-DVS and MNIST-DVS. Their history, how they were made, and other details.\" Frontiers in neuroscience 9 (2015): 481.\n",
        "```\n",
        "\n",
        "It is comprised of four classes, each being a suite of a playing card deck: clubs, spades, hearts, and diamonds. The data consists of 131 poker pip symbols, and was collected by flipping poker cards in front of a DVS128 camera."
      ]
    },
    {
      "cell_type": "code",
      "execution_count": 78,
      "metadata": {
        "id": "Wya2zvXAhizi"
      },
      "outputs": [
        {
          "name": "stdout",
          "output_type": "stream",
          "text": [
            "[(    0, 20, 21, 0) (  106, 21, 19, 0) (  146, 13,  9, 1) ...\n",
            " (15365, 13, 17, 1) (15384, 16, 16, 1) (15408, 16, 22, 0)]\n"
          ]
        },
        {
          "data": {
            "image/png": "[encoded data removed]",
            "text/plain": [
              "<Figure size 640x480 with 3 Axes>"
            ]
          },
          "metadata": {},
          "output_type": "display_data"
        }
      ],
      "source": [
        "import tonic\n",
        "\n",
        "poker_train = tonic.datasets.POKERDVS(save_to='./data', train=True)\n",
        "poker_test = tonic.datasets.POKERDVS(save_to='./data', train=False)\n",
        "\n",
        "events, target = poker_train[0]\n",
        "print(events)\n",
        "tonic.utils.plot_event_grid(events)"
      ]
    },
    {
      "cell_type": "code",
      "execution_count": 79,
      "metadata": {
        "id": "JikbjfRxhkVI"
      },
      "outputs": [
        {
          "name": "stdout",
          "output_type": "stream",
          "text": [
            "torch.Size([17, 8, 2, 35, 35])\n",
            "tensor([0, 1, 1, 2, 2, 1, 3, 1])\n"
          ]
        }
      ],
      "source": [
        "import tonic.transforms as transforms\n",
        "from tonic import DiskCachedDataset\n",
        "\n",
        "# time_window\n",
        "frame_transform = tonic.transforms.Compose([tonic.transforms.Denoise(filter_time=10000),\n",
        "                                            tonic.transforms.ToFrame(\n",
        "                                            sensor_size=tonic.datasets.POKERDVS.sensor_size,\n",
        "                                            time_window=1000)\n",
        "                                            ])\n",
        "\n",
        "batch_size = 8\n",
        "cached_trainset = DiskCachedDataset(poker_train, transform=frame_transform, cache_path='./cache/pokerdvs/train')\n",
        "cached_testset = DiskCachedDataset(poker_test, transform=frame_transform, cache_path='./cache/pokerdvs/test')\n",
        "\n",
        "train_loader = DataLoader(cached_trainset, batch_size=batch_size, collate_fn=tonic.collation.PadTensors(batch_first=False), shuffle=True)\n",
        "test_loader = DataLoader(cached_testset, batch_size=batch_size, collate_fn=tonic.collation.PadTensors(batch_first=False), shuffle=True)\n",
        "\n",
        "data, labels = next(iter(train_loader))\n",
        "print(data.size())\n",
        "print(labels)"
      ]
    },
    {
      "cell_type": "code",
      "execution_count": 80,
      "metadata": {
        "id": "-HEhzeA02Ueg"
      },
      "outputs": [],
      "source": [
        "import torch.functional as F\n",
        "\n",
        "# Define Network\n",
        "class DVSNet(nn.Module):\n",
        "    def __init__(self):\n",
        "        super().__init__()\n",
        "\n",
        "        beta = 0.9\n",
        "\n",
        "        # Initialize layers\n",
        "        self.conv1  = nn.Conv2d(2, 12, 5)\n",
        "        self.mp1    = nn.MaxPool2d(2)\n",
        "        self.lif1   = snn.Leaky(beta=beta)\n",
        "        self.conv2  = nn.Conv2d(12, 32, 5)\n",
        "        self.mp2    = nn.MaxPool2d(2)\n",
        "        self.lif2   = snn.Leaky(beta=beta)\n",
        "        self.fc     = nn.Linear(32*5*5, 4)\n",
        "        self.lif3   = snn.Leaky(beta=beta)\n",
        "\n",
        "\n",
        "    def forward(self, x):\n",
        "\n",
        "        # Initialize hidden states at t=0\n",
        "        mem1 = self.lif1.init_leaky()\n",
        "        mem2 = self.lif2.init_leaky()\n",
        "        mem3 = self.lif3.init_leaky()\n",
        "\n",
        "        # Record the final layer\n",
        "        spk3_rec = []\n",
        "        mem3_rec = []\n",
        "\n",
        "        for step in range(x.size(0)):\n",
        "            cur1       = self.mp1(self.conv1(x[step]))\n",
        "            spk1, mem1 = self.lif1(cur1, mem1)\n",
        "            cur2       = self.mp2(self.conv2(spk1))\n",
        "            spk2, mem2 = self.lif2(cur2, mem2)\n",
        "            cur3       = self.fc(spk2.flatten(1))\n",
        "            spk3, mem3 = self.lif3(cur3, mem3)\n",
        "\n",
        "            spk3_rec.append(spk3)\n",
        "            mem3_rec.append(mem3)\n",
        "\n",
        "        return torch.stack(spk3_rec, dim=0), torch.stack(mem3_rec, dim=0)\n",
        "\n",
        "# Load the network onto CUDA if available\n",
        "dvsnet = DVSNet().to(device)"
      ]
    },
    {
      "cell_type": "code",
      "execution_count": 81,
      "metadata": {
        "id": "V5havFWd3c-F"
      },
      "outputs": [
        {
          "name": "stdout",
          "output_type": "stream",
          "text": [
            "Iteration: 0 \t Train Loss: 1.3862943649291992\n",
            "Iteration: 10 \t Train Loss: 1.401853084564209\n",
            "Iteration: 20 \t Train Loss: 0.6059767007827759\n",
            "Iteration: 30 \t Train Loss: 0.493002325296402\n",
            "Iteration: 40 \t Train Loss: 0.3848695755004883\n",
            "Iteration: 50 \t Train Loss: 0.24776677787303925\n",
            "Test set accuracy: 1.0\n"
          ]
        }
      ],
      "source": [
        "training_loop(dvsnet, train_loader, num_epochs=10)\n",
        "print(f\"Test set accuracy: {measure_accuracy(dvsnet, test_loader)}\")"
      ]
    },
    {
      "cell_type": "markdown",
      "metadata": {
        "id": "pNrFs3ro-xUm"
      },
      "source": [
        "That's all folks!"
      ]
    }
  ],
  "metadata": {
    "accelerator": "GPU",
    "colab": {
      "gpuType": "T4",
      "include_colab_link": true,
      "provenance": []
    },
    "kernelspec": {
      "display_name": "base",
      "language": "python",
      "name": "python3"
    },
    "language_info": {
      "codemirror_mode": {
        "name": "ipython",
        "version": 3
      },
      "file_extension": ".py",
      "mimetype": "text/x-python",
      "name": "python",
      "nbconvert_exporter": "python",
      "pygments_lexer": "ipython3",
      "version": "3.12.2"
    }
  },
  "nbformat": 4,
  "nbformat_minor": 0
}
