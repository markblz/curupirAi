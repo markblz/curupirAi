{
  "cells": [
    {
      "cell_type": "markdown",
      "metadata": {
        "colab_type": "text",
        "id": "view-in-github"
      },
      "source": [
        "<a href=\"https://colab.research.google.com/github/jeshraghian/QSNNs/blob/main/quickstart.ipynb\" target=\"_parent\"><img src=\"https://colab.research.google.com/assets/colab-badge.svg\" alt=\"Open In Colab\"/></a>"
      ]
    },
    {
      "cell_type": "markdown",
      "id": "47d5313e-c29d-4581-a9c7-a45122337069",
      "metadata": {
        "id": "47d5313e-c29d-4581-a9c7-a45122337069"
      },
      "source": [
        "# Quantized Spiking Neural Networks\n",
        "This notebook is based on the paper *Navigating Local Minima in Quantized Spiking Neural Networks.* It demonstrates how to train quantized spiking neural networks using cosine annealing on the FashionMNIST dataset. For other datasets, networks, and for the experiments described in the corresponding paper, please [refer to the QSNNs repo](https://github.com/jeshraghian/QSNNs/).\n",
        "\n",
        "\n",
        "![git_path](https://user-images.githubusercontent.com/13549940/154009399-eb6152f7-31db-4f93-9978-ac1e1c4a8c6a.svg)\n",
        "\n",
        "<p style=\"text-align: center;\"><i>Illustrations of the key concepts of the paper: Periodic scheduling can enable SNNs to overcome flat surfaces and local minima. When the LR is boosted during training using a cyclic scheduler, it is given another chance to reduce the loss with different initial conditions. While the loss appears to converge, subsequent LR boosting enables it to traverse more optimal solutions</i>.</p>\n"
      ]
    },
    {
      "cell_type": "markdown",
      "id": "b68d7bb4",
      "metadata": {},
      "source": [
        "## Install All Required Packages and Import Necessary Libraries"
      ]
    },
    {
      "cell_type": "code",
      "execution_count": 2,
      "id": "hDnIEHOKB8LD",
      "metadata": {
        "id": "hDnIEHOKB8LD"
      },
      "outputs": [],
      "source": [
        "import urllib.request\n",
        "urllib.request.urlretrieve('https://raw.githubusercontent.com/jeshraghian/QSNNs/main/requirements.txt', 'requirements.txt')\n",
        "!pip install -r requirements.txt --quiet\n",
        "import torch, torch.nn as nn\n",
        "import snntorch as snn\n",
        "import brevitas.nn as qnn"
      ]
    },
    {
      "cell_type": "markdown",
      "id": "EYf13Gtx1OCj",
      "metadata": {
        "id": "EYf13Gtx1OCj"
      },
      "source": [
        "## Create a Dataloader for the FashionMNIST Dataset"
      ]
    },
    {
      "cell_type": "markdown",
      "id": "17e61945",
      "metadata": {},
      "source": [
        "Download and apply transforms to the FashionMNIST dataset."
      ]
    },
    {
      "cell_type": "code",
      "execution_count": 7,
      "id": "eo4T5MC21hgD",
      "metadata": {
        "id": "eo4T5MC21hgD"
      },
      "outputs": [
        {
          "name": "stdout",
          "output_type": "stream",
          "text": [
            "Downloading http://fashion-mnist.s3-website.eu-central-1.amazonaws.com/train-images-idx3-ubyte.gz\n",
            "Downloading http://fashion-mnist.s3-website.eu-central-1.amazonaws.com/train-images-idx3-ubyte.gz to /home/markblz/Documents/aventura-politecnica/tcc/repositories/QSNNs/datafmnist/FashionMNIST/raw/train-images-idx3-ubyte.gz\n"
          ]
        },
        {
          "name": "stderr",
          "output_type": "stream",
          "text": [
            "100%|██████████| 26421880/26421880 [00:14<00:00, 1802730.03it/s]\n"
          ]
        },
        {
          "name": "stdout",
          "output_type": "stream",
          "text": [
            "Extracting /home/markblz/Documents/aventura-politecnica/tcc/repositories/QSNNs/datafmnist/FashionMNIST/raw/train-images-idx3-ubyte.gz to /home/markblz/Documents/aventura-politecnica/tcc/repositories/QSNNs/datafmnist/FashionMNIST/raw\n",
            "\n",
            "Downloading http://fashion-mnist.s3-website.eu-central-1.amazonaws.com/train-labels-idx1-ubyte.gz\n",
            "Downloading http://fashion-mnist.s3-website.eu-central-1.amazonaws.com/train-labels-idx1-ubyte.gz to /home/markblz/Documents/aventura-politecnica/tcc/repositories/QSNNs/datafmnist/FashionMNIST/raw/train-labels-idx1-ubyte.gz\n"
          ]
        },
        {
          "name": "stderr",
          "output_type": "stream",
          "text": [
            "100%|██████████| 29515/29515 [00:00<00:00, 63302.21it/s]\n"
          ]
        },
        {
          "name": "stdout",
          "output_type": "stream",
          "text": [
            "Extracting /home/markblz/Documents/aventura-politecnica/tcc/repositories/QSNNs/datafmnist/FashionMNIST/raw/train-labels-idx1-ubyte.gz to /home/markblz/Documents/aventura-politecnica/tcc/repositories/QSNNs/datafmnist/FashionMNIST/raw\n",
            "\n",
            "Downloading http://fashion-mnist.s3-website.eu-central-1.amazonaws.com/t10k-images-idx3-ubyte.gz\n",
            "Downloading http://fashion-mnist.s3-website.eu-central-1.amazonaws.com/t10k-images-idx3-ubyte.gz to /home/markblz/Documents/aventura-politecnica/tcc/repositories/QSNNs/datafmnist/FashionMNIST/raw/t10k-images-idx3-ubyte.gz\n"
          ]
        },
        {
          "name": "stderr",
          "output_type": "stream",
          "text": [
            "100%|██████████| 4422102/4422102 [00:01<00:00, 2323728.13it/s]\n"
          ]
        },
        {
          "name": "stdout",
          "output_type": "stream",
          "text": [
            "Extracting /home/markblz/Documents/aventura-politecnica/tcc/repositories/QSNNs/datafmnist/FashionMNIST/raw/t10k-images-idx3-ubyte.gz to /home/markblz/Documents/aventura-politecnica/tcc/repositories/QSNNs/datafmnist/FashionMNIST/raw\n",
            "\n",
            "Downloading http://fashion-mnist.s3-website.eu-central-1.amazonaws.com/t10k-labels-idx1-ubyte.gz\n",
            "Downloading http://fashion-mnist.s3-website.eu-central-1.amazonaws.com/t10k-labels-idx1-ubyte.gz to /home/markblz/Documents/aventura-politecnica/tcc/repositories/QSNNs/datafmnist/FashionMNIST/raw/t10k-labels-idx1-ubyte.gz\n"
          ]
        },
        {
          "name": "stderr",
          "output_type": "stream",
          "text": [
            "100%|██████████| 5148/5148 [00:00<00:00, 31112791.05it/s]"
          ]
        },
        {
          "name": "stdout",
          "output_type": "stream",
          "text": [
            "Extracting /home/markblz/Documents/aventura-politecnica/tcc/repositories/QSNNs/datafmnist/FashionMNIST/raw/t10k-labels-idx1-ubyte.gz to /home/markblz/Documents/aventura-politecnica/tcc/repositories/QSNNs/datafmnist/FashionMNIST/raw\n",
            "\n"
          ]
        },
        {
          "name": "stderr",
          "output_type": "stream",
          "text": [
            "\n"
          ]
        }
      ],
      "source": [
        "from torch.utils.data import DataLoader\n",
        "from torchvision import datasets, transforms\n",
        "\n",
        "\n",
        "data_path='/home/markblz/Documents/aventura-politecnica/tcc/repositories/QSNNs/datafmnist' # Directory where FMNIST dataset is stored\n",
        "device = torch.device(\"cuda\") if torch.cuda.is_available() else torch.device(\"cpu\") # Use GPU if available\n",
        "\n",
        "# Define a transform to normalize data\n",
        "transform = transforms.Compose([\n",
        "            transforms.Resize((28, 28)),\n",
        "            transforms.Grayscale(),\n",
        "            transforms.ToTensor(),\n",
        "            transforms.Normalize((0,), (1,))])\n",
        "\n",
        "# Download and load the training and test FashionMNIST datasets\n",
        "fmnist_train = datasets.FashionMNIST(data_path, train=True, download=True, transform=transform)\n",
        "fmnist_test = datasets.FashionMNIST(data_path, train=False, download=True, transform=transform)"
      ]
    },
    {
      "cell_type": "markdown",
      "id": "CHcNZT-7iCQH",
      "metadata": {
        "id": "CHcNZT-7iCQH"
      },
      "source": [
        "To speed-up simulations for demonstration purposes, the below code cell can be run to reduce the number of samples in the training and test sets by a factor of 10."
      ]
    },
    {
      "cell_type": "code",
      "execution_count": 8,
      "id": "q5bhKdF_h7qk",
      "metadata": {
        "id": "q5bhKdF_h7qk"
      },
      "outputs": [
        {
          "data": {
            "text/plain": [
              "Dataset FashionMNIST\n",
              "    Number of datapoints: 1000\n",
              "    Root location: /home/markblz/Documents/aventura-politecnica/tcc/repositories/QSNNs/datafmnist\n",
              "    Split: Test\n",
              "    StandardTransform\n",
              "Transform: Compose(\n",
              "               Resize(size=(28, 28), interpolation=bilinear, max_size=None, antialias=True)\n",
              "               Grayscale(num_output_channels=1)\n",
              "               ToTensor()\n",
              "               Normalize(mean=(0,), std=(1,))\n",
              "           )"
            ]
          },
          "execution_count": 8,
          "metadata": {},
          "output_type": "execute_result"
        }
      ],
      "source": [
        "from snntorch import utils\n",
        "\n",
        "\n",
        "utils.data_subset(fmnist_train, 10)\n",
        "utils.data_subset(fmnist_test, 10)"
      ]
    },
    {
      "cell_type": "markdown",
      "id": "bLmrQ5pEiSSJ",
      "metadata": {
        "id": "bLmrQ5pEiSSJ"
      },
      "source": [
        "Create DataLoaders with batches of 128 samples and shuffle the training set."
      ]
    },
    {
      "cell_type": "code",
      "execution_count": 9,
      "id": "xstp4mn_iRxi",
      "metadata": {
        "id": "xstp4mn_iRxi"
      },
      "outputs": [],
      "source": [
        "batch_size = 128 # Batches of 128 samples\n",
        "trainloader = DataLoader(fmnist_train, batch_size=batch_size, shuffle=True)\n",
        "testloader = DataLoader(fmnist_test, batch_size=batch_size, shuffle=False)"
      ]
    },
    {
      "cell_type": "markdown",
      "id": "i3A4exp_c0c5",
      "metadata": {
        "id": "i3A4exp_c0c5"
      },
      "source": [
        "## Define Network Parameters"
      ]
    },
    {
      "cell_type": "markdown",
      "id": "vrt2wObbiXSf",
      "metadata": {
        "id": "vrt2wObbiXSf"
      },
      "source": [
        "We have only specified 15 epochs without early stopping as a quick, early demonstration. Feel free to increase this. "
      ]
    },
    {
      "cell_type": "code",
      "execution_count": 10,
      "id": "ivhGn7Lhc6te",
      "metadata": {
        "id": "ivhGn7Lhc6te"
      },
      "outputs": [],
      "source": [
        "config = {\n",
        "    \"num_epochs\": 15,  # Number of epochs to train for (per trial)\n",
        "    \"batch_size\": 128,  # Batch size\n",
        "    \"seed\": 0,  # Random seed\n",
        "    \n",
        "    # Quantization\n",
        "    \"num_bits\": 4,  # Bit resolution\n",
        "    \n",
        "    # Network parameters\n",
        "    \"grad_clip\": False,  # Whether or not to clip gradients\n",
        "    \"weight_clip\": False,  # Whether or not to clip weights\n",
        "    \"batch_norm\": True,  # Whether or not to use batch normalization\n",
        "    \"dropout\": 0.07,  # Dropout rate\n",
        "    \"beta\": 0.97,  # Decay rate parameter (beta)\n",
        "    \"threshold\": 2.5,  # Threshold parameter (theta)\n",
        "    \"lr\": 3.0e-3,  # Initial learning rate\n",
        "    \"slope\": 5.6,  # Slope value (k)\n",
        "    \n",
        "    # Fixed params\n",
        "    \"num_steps\": 100,  # Number of timesteps to encode input for\n",
        "    \"correct_rate\": 0.8,  # Correct rate\n",
        "    \"incorrect_rate\": 0.2,  # Incorrect rate\n",
        "    \"betas\": (0.9, 0.999),  # Adam optimizer beta values\n",
        "    \"t_0\": 4690,  # Initial frequency of the cosine annealing scheduler\n",
        "    \"eta_min\": 0,  # Minimum learning rate\n",
        "}"
      ]
    },
    {
      "cell_type": "markdown",
      "id": "BtJBOtez11wy",
      "metadata": {
        "id": "BtJBOtez11wy"
      },
      "source": [
        "## Define the Network Architecture\n",
        "* 5 $\\times$ Conv Layer w/16 Filters\n",
        "* 2 $\\times$ 2 Average Pooling\n",
        "* 5 $\\times$ Conv Layer w/64 Filters\n",
        "* 2 $\\times$ 2 Average Pooling\n",
        "* (64 $\\times$ 4 $\\times$ 4) -- 10 Dense Layer"
      ]
    },
    {
      "cell_type": "code",
      "execution_count": null,
      "id": "8747ec58",
      "metadata": {},
      "outputs": [],
      "source": [
        "from snntorch.functional import quant\n",
        "qlif = quant.state_quant(num_bits=9, uniform=True, thr_centered=False)"
      ]
    },
    {
      "cell_type": "code",
      "execution_count": 11,
      "id": "JM2thnrc10rD",
      "metadata": {
        "id": "JM2thnrc10rD"
      },
      "outputs": [],
      "source": [
        "from snntorch import surrogate\n",
        "import torch.nn.functional as F\n",
        "\n",
        "\n",
        "class Net(nn.Module):\n",
        "    def _init_(self, config):\n",
        "        super()._init_()\n",
        "        self.num_bits = config[\"num_bits\"]\n",
        "        self.thr = config[\"threshold\"]\n",
        "        self.slope = config[\"slope\"]\n",
        "        self.beta = config[\"beta\"]\n",
        "        self.num_steps = config[\"num_steps\"]\n",
        "        self.batch_norm = config[\"batch_norm\"]\n",
        "        self.p1 = config[\"dropout\"]\n",
        "        self.spike_grad = surrogate.fast_sigmoid(self.slope)\n",
        "        \n",
        "        # Initialize Layers\n",
        "        self.conv1 = qnn.QuantConv2d(1, 16, 5, bias=False, weight_bit_width=self.num_bits)\n",
        "        self.conv1_bn = nn.BatchNorm2d(16)\n",
        "        self.lif1 = snn.Leaky(self.beta, threshold=self.thr, spike_grad=self.spike_grad, state_quant=qlif)\n",
        "        self.conv2 = qnn.QuantConv2d(16, 64, 5, bias=False, weight_bit_width=self.num_bits)\n",
        "        self.conv2_bn = nn.BatchNorm2d(64)\n",
        "        self.lif2 = snn.Leaky(self.beta, threshold=self.thr, spike_grad=self.spike_grad, state_quant=qlif)\n",
        "        self.fc1 = qnn.QuantLinear(64 * 4 * 4, 10, bias=False, weight_bit_width=self.num_bits)\n",
        "        self.lif3 = snn.Leaky(self.beta, threshold=self.thr, spike_grad=self.spike_grad, state_quant=qlif)\n",
        "        self.dropout = nn.Dropout(self.p1)\n",
        "\n",
        "    def forward(self, x):\n",
        "        # Initialize hidden states and outputs at t=0\n",
        "        mem1 = self.lif1.init_leaky()\n",
        "        mem2 = self.lif2.init_leaky()\n",
        "        mem3 = self.lif3.init_leaky()\n",
        "\n",
        "        # Record the final layer\n",
        "        spk3_rec = []\n",
        "        mem3_rec = []\n",
        "\n",
        "        # Forward pass\n",
        "        for step in range(self.num_steps):\n",
        "            cur1 = F.avg_pool2d(self.conv1(x), 2)\n",
        "            if self.batch_norm:\n",
        "                cur1 = self.conv1_bn(cur1)\n",
        "\n",
        "            spk1, mem1 = self.lif1(cur1, mem1)\n",
        "            cur2 = F.avg_pool2d(self.conv2(spk1), 2)\n",
        "            if self.batch_norm:\n",
        "                cur2 = self.conv2_bn(cur2)\n",
        "\n",
        "            spk2, mem2 = self.lif2(cur2, mem2)\n",
        "            cur3 = self.dropout(self.fc1(spk2.flatten(1)))\n",
        "            spk3, mem3 = self.lif3(cur3, mem3)\n",
        "            spk3_rec.append(spk3)\n",
        "            mem3_rec.append(mem3)\n",
        "\n",
        "        return torch.stack(spk3_rec, dim=0), torch.stack(mem3_rec, dim=0)\n",
        "\n",
        "net = Net(config).to(device)"
      ]
    },
    {
      "cell_type": "markdown",
      "id": "BmtJx_AAeOyP",
      "metadata": {
        "id": "BmtJx_AAeOyP"
      },
      "source": [
        "## Define the Optimizer, Learning Rate Scheduler, and Loss Function\n",
        "* Adam optimizer\n",
        "* Cosine Annealing Scheduler\n",
        "* MSE Spike Count Loss (Target spike count for correct and incorrect classes are specified)"
      ]
    },
    {
      "cell_type": "code",
      "execution_count": 12,
      "id": "ky-qAN_YeKmE",
      "metadata": {
        "id": "ky-qAN_YeKmE"
      },
      "outputs": [],
      "source": [
        "import snntorch.functional as SF\n",
        "\n",
        "\n",
        "optimizer = torch.optim.Adam(net.parameters(), \n",
        "    lr=config[\"lr\"], betas=config[\"betas\"]\n",
        ")\n",
        "scheduler = torch.optim.lr_scheduler.CosineAnnealingLR(optimizer, \n",
        "    T_max=config[\"t_0\"], \n",
        "    eta_min=config[\"eta_min\"], \n",
        "    last_epoch=-1\n",
        ")\n",
        "criterion = SF.mse_count_loss(correct_rate=config[\"correct_rate\"], \n",
        "    incorrect_rate=config[\"incorrect_rate\"]\n",
        ")"
      ]
    },
    {
      "cell_type": "markdown",
      "id": "UGtJwmtVexb4",
      "metadata": {
        "id": "UGtJwmtVexb4"
      },
      "source": [
        "## Train and Evaluate the Network"
      ]
    },
    {
      "cell_type": "markdown",
      "id": "2321a02f",
      "metadata": {},
      "source": [
        "As the learning rate follows a periodic schedule, the accuracy will oscillate across the training process, but with a general tendency to improve."
      ]
    },
    {
      "cell_type": "code",
      "execution_count": 13,
      "id": "tbOQgPiEe-lp",
      "metadata": {
        "id": "tbOQgPiEe-lp"
      },
      "outputs": [
        {
          "name": "stdout",
          "output_type": "stream",
          "text": [
            "=======Training Network=======\n"
          ]
        },
        {
          "name": "stderr",
          "output_type": "stream",
          "text": [
            "/home/markblz/miniconda3/lib/python3.12/site-packages/torch/_tensor.py:1413: UserWarning: Named tensors and all their associated APIs are an experimental feature and subject to change. Please do not use them for anything important until they are released as stable. (Triggered internally at ../c10/core/TensorImpl.h:1925.)\n",
            "  return super().rename(names)\n"
          ]
        },
        {
          "name": "stdout",
          "output_type": "stream",
          "text": [
            "Epoch: 0 \tTest Accuracy: 76.9\n",
            "Epoch: 1 \tTest Accuracy: 81.6\n",
            "Epoch: 2 \tTest Accuracy: 82.3\n",
            "Epoch: 3 \tTest Accuracy: 84.1\n",
            "Epoch: 4 \tTest Accuracy: 84.8\n"
          ]
        },
        {
          "ename": "KeyboardInterrupt",
          "evalue": "",
          "output_type": "error",
          "traceback": [
            "\u001b[0;31m---------------------------------------------------------------------------\u001b[0m",
            "\u001b[0;31mKeyboardInterrupt\u001b[0m                         Traceback (most recent call last)",
            "Cell \u001b[0;32mIn[13], line 54\u001b[0m\n\u001b[1;32m     52\u001b[0m \u001b[38;5;66;03m# Train\u001b[39;00m\n\u001b[1;32m     53\u001b[0m \u001b[38;5;28;01mfor\u001b[39;00m epoch \u001b[38;5;129;01min\u001b[39;00m \u001b[38;5;28mrange\u001b[39m(config[\u001b[38;5;124m'\u001b[39m\u001b[38;5;124mnum_epochs\u001b[39m\u001b[38;5;124m'\u001b[39m]):\n\u001b[0;32m---> 54\u001b[0m     loss, lr \u001b[38;5;241m=\u001b[39m \u001b[43mtrain\u001b[49m\u001b[43m(\u001b[49m\u001b[43mconfig\u001b[49m\u001b[43m,\u001b[49m\u001b[43m \u001b[49m\u001b[43mnet\u001b[49m\u001b[43m,\u001b[49m\u001b[43m \u001b[49m\u001b[43mtrainloader\u001b[49m\u001b[43m,\u001b[49m\u001b[43m \u001b[49m\u001b[43mcriterion\u001b[49m\u001b[43m,\u001b[49m\u001b[43m \u001b[49m\u001b[43moptimizer\u001b[49m\u001b[43m,\u001b[49m\u001b[43m \u001b[49m\n\u001b[1;32m     55\u001b[0m \u001b[43m        \u001b[49m\u001b[43mdevice\u001b[49m\u001b[43m,\u001b[49m\u001b[43m \u001b[49m\u001b[43mscheduler\u001b[49m\n\u001b[1;32m     56\u001b[0m \u001b[43m    \u001b[49m\u001b[43m)\u001b[49m\n\u001b[1;32m     57\u001b[0m     loss_list \u001b[38;5;241m=\u001b[39m loss_list \u001b[38;5;241m+\u001b[39m loss\n\u001b[1;32m     58\u001b[0m     lr_list \u001b[38;5;241m=\u001b[39m lr_list \u001b[38;5;241m+\u001b[39m lr\n",
            "Cell \u001b[0;32mIn[13], line 13\u001b[0m, in \u001b[0;36mtrain\u001b[0;34m(config, net, trainloader, criterion, optimizer, device, scheduler)\u001b[0m\n\u001b[1;32m     11\u001b[0m loss \u001b[38;5;241m=\u001b[39m criterion(spk_rec, labels)\n\u001b[1;32m     12\u001b[0m optimizer\u001b[38;5;241m.\u001b[39mzero_grad()\n\u001b[0;32m---> 13\u001b[0m \u001b[43mloss\u001b[49m\u001b[38;5;241;43m.\u001b[39;49m\u001b[43mbackward\u001b[49m\u001b[43m(\u001b[49m\u001b[43m)\u001b[49m\n\u001b[1;32m     15\u001b[0m \u001b[38;5;66;03m## Enable gradient clipping\u001b[39;00m\n\u001b[1;32m     16\u001b[0m \u001b[38;5;28;01mif\u001b[39;00m config[\u001b[38;5;124m\"\u001b[39m\u001b[38;5;124mgrad_clip\u001b[39m\u001b[38;5;124m\"\u001b[39m]:\n",
            "File \u001b[0;32m~/miniconda3/lib/python3.12/site-packages/torch/_tensor.py:521\u001b[0m, in \u001b[0;36mTensor.backward\u001b[0;34m(self, gradient, retain_graph, create_graph, inputs)\u001b[0m\n\u001b[1;32m    511\u001b[0m \u001b[38;5;28;01mif\u001b[39;00m has_torch_function_unary(\u001b[38;5;28mself\u001b[39m):\n\u001b[1;32m    512\u001b[0m     \u001b[38;5;28;01mreturn\u001b[39;00m handle_torch_function(\n\u001b[1;32m    513\u001b[0m         Tensor\u001b[38;5;241m.\u001b[39mbackward,\n\u001b[1;32m    514\u001b[0m         (\u001b[38;5;28mself\u001b[39m,),\n\u001b[0;32m   (...)\u001b[0m\n\u001b[1;32m    519\u001b[0m         inputs\u001b[38;5;241m=\u001b[39minputs,\n\u001b[1;32m    520\u001b[0m     )\n\u001b[0;32m--> 521\u001b[0m \u001b[43mtorch\u001b[49m\u001b[38;5;241;43m.\u001b[39;49m\u001b[43mautograd\u001b[49m\u001b[38;5;241;43m.\u001b[39;49m\u001b[43mbackward\u001b[49m\u001b[43m(\u001b[49m\n\u001b[1;32m    522\u001b[0m \u001b[43m    \u001b[49m\u001b[38;5;28;43mself\u001b[39;49m\u001b[43m,\u001b[49m\u001b[43m \u001b[49m\u001b[43mgradient\u001b[49m\u001b[43m,\u001b[49m\u001b[43m \u001b[49m\u001b[43mretain_graph\u001b[49m\u001b[43m,\u001b[49m\u001b[43m \u001b[49m\u001b[43mcreate_graph\u001b[49m\u001b[43m,\u001b[49m\u001b[43m \u001b[49m\u001b[43minputs\u001b[49m\u001b[38;5;241;43m=\u001b[39;49m\u001b[43minputs\u001b[49m\n\u001b[1;32m    523\u001b[0m \u001b[43m\u001b[49m\u001b[43m)\u001b[49m\n",
            "File \u001b[0;32m~/miniconda3/lib/python3.12/site-packages/torch/autograd/__init__.py:289\u001b[0m, in \u001b[0;36mbackward\u001b[0;34m(tensors, grad_tensors, retain_graph, create_graph, grad_variables, inputs)\u001b[0m\n\u001b[1;32m    284\u001b[0m     retain_graph \u001b[38;5;241m=\u001b[39m create_graph\n\u001b[1;32m    286\u001b[0m \u001b[38;5;66;03m# The reason we repeat the same comment below is that\u001b[39;00m\n\u001b[1;32m    287\u001b[0m \u001b[38;5;66;03m# some Python versions print out the first line of a multi-line function\u001b[39;00m\n\u001b[1;32m    288\u001b[0m \u001b[38;5;66;03m# calls in the traceback and some print out the last line\u001b[39;00m\n\u001b[0;32m--> 289\u001b[0m \u001b[43m_engine_run_backward\u001b[49m\u001b[43m(\u001b[49m\n\u001b[1;32m    290\u001b[0m \u001b[43m    \u001b[49m\u001b[43mtensors\u001b[49m\u001b[43m,\u001b[49m\n\u001b[1;32m    291\u001b[0m \u001b[43m    \u001b[49m\u001b[43mgrad_tensors_\u001b[49m\u001b[43m,\u001b[49m\n\u001b[1;32m    292\u001b[0m \u001b[43m    \u001b[49m\u001b[43mretain_graph\u001b[49m\u001b[43m,\u001b[49m\n\u001b[1;32m    293\u001b[0m \u001b[43m    \u001b[49m\u001b[43mcreate_graph\u001b[49m\u001b[43m,\u001b[49m\n\u001b[1;32m    294\u001b[0m \u001b[43m    \u001b[49m\u001b[43minputs\u001b[49m\u001b[43m,\u001b[49m\n\u001b[1;32m    295\u001b[0m \u001b[43m    \u001b[49m\u001b[43mallow_unreachable\u001b[49m\u001b[38;5;241;43m=\u001b[39;49m\u001b[38;5;28;43;01mTrue\u001b[39;49;00m\u001b[43m,\u001b[49m\n\u001b[1;32m    296\u001b[0m \u001b[43m    \u001b[49m\u001b[43maccumulate_grad\u001b[49m\u001b[38;5;241;43m=\u001b[39;49m\u001b[38;5;28;43;01mTrue\u001b[39;49;00m\u001b[43m,\u001b[49m\n\u001b[1;32m    297\u001b[0m \u001b[43m\u001b[49m\u001b[43m)\u001b[49m\n",
            "File \u001b[0;32m~/miniconda3/lib/python3.12/site-packages/torch/autograd/graph.py:769\u001b[0m, in \u001b[0;36m_engine_run_backward\u001b[0;34m(t_outputs, *args, **kwargs)\u001b[0m\n\u001b[1;32m    767\u001b[0m     unregister_hooks \u001b[38;5;241m=\u001b[39m _register_logging_hooks_on_whole_graph(t_outputs)\n\u001b[1;32m    768\u001b[0m \u001b[38;5;28;01mtry\u001b[39;00m:\n\u001b[0;32m--> 769\u001b[0m     \u001b[38;5;28;01mreturn\u001b[39;00m \u001b[43mVariable\u001b[49m\u001b[38;5;241;43m.\u001b[39;49m\u001b[43m_execution_engine\u001b[49m\u001b[38;5;241;43m.\u001b[39;49m\u001b[43mrun_backward\u001b[49m\u001b[43m(\u001b[49m\u001b[43m  \u001b[49m\u001b[38;5;66;43;03m# Calls into the C++ engine to run the backward pass\u001b[39;49;00m\n\u001b[1;32m    770\u001b[0m \u001b[43m        \u001b[49m\u001b[43mt_outputs\u001b[49m\u001b[43m,\u001b[49m\u001b[43m \u001b[49m\u001b[38;5;241;43m*\u001b[39;49m\u001b[43margs\u001b[49m\u001b[43m,\u001b[49m\u001b[43m \u001b[49m\u001b[38;5;241;43m*\u001b[39;49m\u001b[38;5;241;43m*\u001b[39;49m\u001b[43mkwargs\u001b[49m\n\u001b[1;32m    771\u001b[0m \u001b[43m    \u001b[49m\u001b[43m)\u001b[49m  \u001b[38;5;66;03m# Calls into the C++ engine to run the backward pass\u001b[39;00m\n\u001b[1;32m    772\u001b[0m \u001b[38;5;28;01mfinally\u001b[39;00m:\n\u001b[1;32m    773\u001b[0m     \u001b[38;5;28;01mif\u001b[39;00m attach_logging_hooks:\n",
            "\u001b[0;31mKeyboardInterrupt\u001b[0m: "
          ]
        }
      ],
      "source": [
        "def train(config, net, trainloader, criterion, optimizer, device=\"cpu\", scheduler=None):\n",
        "    \"\"\"Complete one epoch of training.\"\"\"\n",
        "    \n",
        "    net.train()\n",
        "    loss_accum = []\n",
        "    lr_accum = []\n",
        "    i = 0\n",
        "    for data, labels in trainloader:\n",
        "        data, labels = data.to(device), labels.to(device)\n",
        "        spk_rec, _ = net(data)\n",
        "        loss = criterion(spk_rec, labels)\n",
        "        optimizer.zero_grad()\n",
        "        loss.backward()\n",
        "\n",
        "        ## Enable gradient clipping\n",
        "        if config[\"grad_clip\"]:\n",
        "            nn.utils.clip_grad_norm_(net.parameters(), 1.0)\n",
        "\n",
        "        ## Enable weight clipping\n",
        "        if config[\"weight_clip\"]:\n",
        "            with torch.no_grad():\n",
        "                for param in net.parameters():\n",
        "                    param.clamp_(-1, 1)\n",
        "\n",
        "        optimizer.step()\n",
        "        scheduler.step()\n",
        "        loss_accum.append(loss.item() / config[\"num_steps\"])\n",
        "        lr_accum.append(optimizer.param_groups[0][\"lr\"])\n",
        "\n",
        "    return loss_accum, lr_accum\n",
        "\n",
        "def test(config, net, testloader, device=\"cpu\"):\n",
        "    \"\"\"Calculate accuracy on full test set.\"\"\"\n",
        "    correct = 0\n",
        "    total = 0\n",
        "    with torch.no_grad():\n",
        "        net.eval()\n",
        "        for data in testloader:\n",
        "            images, labels = data\n",
        "            images, labels = images.to(device), labels.to(device)\n",
        "            outputs, _ = net(images)\n",
        "            accuracy = SF.accuracy_rate(outputs, labels)\n",
        "            total += labels.size(0)\n",
        "            correct += accuracy * labels.size(0)\n",
        "\n",
        "    return 100 * correct / total\n",
        "\n",
        "loss_list = []\n",
        "lr_list = []\n",
        "\n",
        "print(f\"=======Training Network=======\")\n",
        "# Train\n",
        "for epoch in range(config['num_epochs']):\n",
        "    loss, lr = train(config, net, trainloader, criterion, optimizer, \n",
        "        device, scheduler\n",
        "    )\n",
        "    loss_list = loss_list + loss\n",
        "    lr_list = lr_list + lr\n",
        "    # Test\n",
        "    test_accuracy = test(config, net, testloader, device)\n",
        "    print(f\"Epoch: {epoch} \\tTest Accuracy: {test_accuracy}\")"
      ]
    },
    {
      "cell_type": "markdown",
      "id": "14d0bd78",
      "metadata": {},
      "source": [
        "## Plot the Training Loss and Learning Rate Over Time"
      ]
    },
    {
      "cell_type": "code",
      "execution_count": null,
      "id": "B22SnaTElOLh",
      "metadata": {
        "id": "B22SnaTElOLh"
      },
      "outputs": [],
      "source": [
        "%matplotlib inline\n",
        "import matplotlib.pyplot as plt\n",
        "import seaborn as sns\n",
        "\n",
        "\n",
        "sns.set_theme()\n",
        "fig, ax1 = plt.subplots()\n",
        "ax2 = ax1.twinx()\n",
        "ax1.plot(loss_list, color='tab:orange')\n",
        "ax2.plot(lr_list, color='tab:blue')\n",
        "ax1.set_xlabel('Iteration')\n",
        "ax1.set_ylabel('Loss', color='tab:orange')\n",
        "ax2.set_ylabel('Learning Rate', color='tab:blue')\n",
        "plt.show()"
      ]
    },
    {
      "cell_type": "markdown",
      "id": "-iSGTq0Q3Lcm",
      "metadata": {
        "id": "-iSGTq0Q3Lcm"
      },
      "source": [
        "# Conclusion\n",
        "That's it for the quick intro to quantized SNNs! Results can be further improved by not using the `snntorch.utils.data_subset` method to train with the full FashionMNIST dataset, training for a larger number of epochs, and utilizing early stopping logic.\n",
        "\n",
        "To run the experiments from the corresponding paper, including those on dynamic datasets, please [refer to the corresponding GitHub repo](https://github.com/jeshraghian/QSNNs/)."
      ]
    }
  ],
  "metadata": {
    "accelerator": "GPU",
    "colab": {
      "include_colab_link": true,
      "name": "Copy of tutorial_5_neuromorphic_datasets.ipynb",
      "provenance": []
    },
    "kernelspec": {
      "display_name": "Python 3 (ipykernel)",
      "language": "python",
      "name": "python3"
    },
    "language_info": {
      "codemirror_mode": {
        "name": "ipython",
        "version": 3
      },
      "file_extension": ".py",
      "mimetype": "text/x-python",
      "name": "python",
      "nbconvert_exporter": "python",
      "pygments_lexer": "ipython3",
      "version": "3.12.2"
    }
  },
  "nbformat": 4,
  "nbformat_minor": 5
}
